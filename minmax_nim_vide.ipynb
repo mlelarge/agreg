{
 "cells": [
  {
   "cell_type": "markdown",
   "id": "05a72c81",
   "metadata": {},
   "source": [
    "# Minimax en Python: le jeu de Nim\n",
    "\n",
    "adapted from: Geir Arne Hjelle https://realpython.com/python-minimax-nim/ \n",
    "\n",
    "avec l'aide de ChatGPT pour la traduction.\n",
    "\n",
    "Erreurs dûes à Marc Lelarge, merci de les signaler: https://github.com/mlelarge/agreg/issues\n",
    "\n",
    "[Nim](https://fr.wikipedia.org/wiki/Jeux_de_Nim) est un jeu pour deux joueurs qui se termine toujours avec la victoire d'un joueur. Le jeu consiste en plusieurs jetons posés sur la table de jeu et les joueurs qui se relaient pour en retirer un ou plusieurs. Dans la première moitié de ce tutoriel, vous allez jouer une version simplifiée de Nim avec les règles suivantes :\n",
    "\n",
    "- Il y a plusieurs jetons dans un tas commun.\n",
    "- Deux joueurs se relaient.\n",
    "- A son tour, un joueur retire un, deux ou trois jetons du tas.\n",
    "- Le joueur qui prend le dernier jeton perd la partie.\n",
    "\n",
    "Nous allons appeler ce jeu Simple-Nim. Plus tard, vous allez apprendre les vraies règles de Nim. Elles ne sont pas beaucoup plus compliquées, mais Simple-Nim est plus facile à présenter.\n",
    "\n",
    "Voici un exemple de jeux:\n",
    "\n",
    "| Mindy | Tas       | Maximillien |\n",
    "|:-------|:------------:|------------:|\n",
    "|       | 🪙🪙🪙🪙🪙🪙🪙🪙🪙🪙🪙🪙 |            |\n",
    "| 🪙🪙      | 🪙🪙🪙🪙🪙🪙🪙🪙🪙🪙 |            |\n",
    "|       | 🪙🪙🪙🪙🪙🪙🪙🪙🪙 |      🪙      |\n",
    "|   🪙🪙🪙    | 🪙🪙🪙🪙🪙🪙 |          |\n",
    "|      | 🪙🪙🪙🪙 |     🪙🪙     |\n",
    "|   🪙🪙🪙   | 🪙 |         |\n",
    "|      |  |     🪙    |\n",
    "\n",
    "Vous pouvez représenter le même jeu en ne gardant en compte que le nombre de jetons dans le tas et à qui c'est le tour :\n",
    "\n",
    "| Tour | Tas   | \n",
    "|:-------|:------------|\n",
    "|   Mindy    | 🪙🪙🪙🪙🪙🪙🪙🪙🪙🪙🪙🪙 (12)| \n",
    "| Maximillien    | 🪙🪙🪙🪙🪙🪙🪙🪙🪙🪙 (10) |\n",
    "|   Mindy    | 🪙🪙🪙🪙🪙🪙🪙🪙🪙 (9)|\n",
    "|   Maximillien   | 🪙🪙🪙🪙🪙🪙 (7)|\n",
    "|    Mindy  | 🪙🪙🪙🪙 (4)|\n",
    "|   Maximillien   | 🪙 (1) |\n",
    "\n",
    "On peut donc rerésenter le jeux par: **12-10-9-6-4-1, Mindy commence**, ce sera l'état du jeux (game state).\n",
    "En partant d'une pile de six jetons, il y a seulement treize jeux différents possibles qui peuvent être joués:\n",
    "![](./images/minmax_nim_tree.png)"
   ]
  },
  {
   "cell_type": "markdown",
   "id": "f8f6d0c7",
   "metadata": {},
   "source": [
    "## Stratégie optimale\n",
    "\n",
    "La base de l'algorithme minimax: vous donnez à chacun des deux joueurs le rôle de joueur maximisant ou minimisant. Le joueur actuel veut faire un coup pour maximiser ses chances de gagner, tandis que son adversaire veut contrer avec un coup pour minimiser les chances de victoire du joueur actuel.\n",
    "\n",
    "Pour suivre le jeu, dessinez l'arbre de tous les coups possibles. Ensuite, attribuez un score minimax à tous les nœuds feuilles de l'arbre, i.e..les nœuds avec un compteur à zéro. Le score dépendra de l'issue représentée par le nœud feuille: si le joueur qui maximise a gagné la partie, la feuille a un score de +1. De même, si le joueur minimisant a gagné la partie, la feuille a un score de -1:\n",
    "![](./images/minmax_nim_tree_leaves.png)\n",
    "\n",
    "Les nœuds feuilles dans les rangées marquées Max — Maximillian, le joueur qui maximise — sont marqués par +1, tandis que les nœuds feuilles dans les rangées de Mindy sont marqués par -1. Ensuite, laissez les scores minimax monter dans l'arbre. Considérez un nœud où tous les enfants ont reçu un score. Si le nœud est sur une ligne Max, donnez-lui le score maximum de ses enfants. Sinon, donnez-lui le score minimum de ses enfants.\n",
    "![](./images/minmax_nim_tree_all.png)"
   ]
  },
  {
   "cell_type": "markdown",
   "id": "c212b1b6",
   "metadata": {},
   "source": [
    "## Code python pour la version simple\n",
    "\n",
    "Voici une version très simple de l'algorithme:"
   ]
  },
  {
   "cell_type": "code",
   "execution_count": null,
   "id": "60d5ff00",
   "metadata": {},
   "outputs": [],
   "source": [
    "def minimax(state, max_turn):\n",
    "    # renvoie 1 si Maximilien gagne la partie et -1 s'il perd\n",
    "    if state == 0:\n",
    "        return 1 if max_turn else -1\n",
    "    \n",
    "    # nouveaux etats possibles\n",
    "    possible_new_states = [\n",
    "        # your code\n",
    "    ]\n",
    "    \n",
    "    # algorithem minmax\n",
    "    # your code\n",
    "    pass"
   ]
  },
  {
   "cell_type": "code",
   "execution_count": null,
   "id": "63afc458",
   "metadata": {},
   "outputs": [],
   "source": [
    "minimax(6, True)"
   ]
  },
  {
   "cell_type": "code",
   "execution_count": null,
   "id": "801c02a1",
   "metadata": {},
   "outputs": [],
   "source": [
    "minimax(5, False)"
   ]
  },
  {
   "cell_type": "code",
   "execution_count": null,
   "id": "1f66e56d",
   "metadata": {},
   "outputs": [],
   "source": [
    "minimax(4, False)"
   ]
  },
  {
   "cell_type": "markdown",
   "id": "8d448b80",
   "metadata": {},
   "source": [
    "Pour trouver efficacement quel coup Maximilien doit jouer ensuite, vous pouvez faire les calculs en boucle :"
   ]
  },
  {
   "cell_type": "code",
   "execution_count": null,
   "id": "97b62e99",
   "metadata": {},
   "outputs": [],
   "source": [
    "state = 6\n",
    "for take in (1, 2, 3):\n",
    "    new_state = state - take\n",
    "    score = minimax(new_state, max_turn=False)\n",
    "    print(f\"Move from {state} to {new_state}: {score}\")"
   ]
  },
  {
   "cell_type": "code",
   "execution_count": null,
   "id": "54d12501",
   "metadata": {},
   "outputs": [],
   "source": [
    "def best_move(state):\n",
    "    for take in (1, 2, 3):\n",
    "        new_state = state - take\n",
    "        score = minimax(new_state, max_turn=False)\n",
    "        if score > 0:\n",
    "            break\n",
    "    return score, new_state"
   ]
  },
  {
   "cell_type": "code",
   "execution_count": null,
   "id": "f6049449",
   "metadata": {},
   "outputs": [],
   "source": [
    "best_move(6)"
   ]
  },
  {
   "cell_type": "code",
   "execution_count": null,
   "id": "8c6b4c0a",
   "metadata": {},
   "outputs": [],
   "source": [
    "best_move(5)"
   ]
  },
  {
   "cell_type": "markdown",
   "id": "89a83dc1",
   "metadata": {},
   "source": [
    "## Refactoring\n",
    "\n",
    "Les deux fonctions `minimax()` et `best_move()` contiennent une logique qui traite de l'algorithme minimax et une logique qui traite des règles de Simple-Nim. Nous allons voir comment les séparer.\n",
    "\n",
    "Nous commencons par les règles de Simple-Nim:"
   ]
  },
  {
   "cell_type": "code",
   "execution_count": null,
   "id": "ec339192",
   "metadata": {},
   "outputs": [],
   "source": [
    "def possible_new_states(state):\n",
    "    return [state - take for take in (1, 2, 3) if take <= state]\n",
    "    \n",
    "def evaluate(state, is_maximizing):\n",
    "    if state == 0:\n",
    "        return 1 if is_maximizing else -1"
   ]
  },
  {
   "cell_type": "markdown",
   "id": "10bf6081",
   "metadata": {},
   "source": [
    "On peut maintenant reprendre le code de l'algorithme minimax:"
   ]
  },
  {
   "cell_type": "code",
   "execution_count": null,
   "id": "83276246",
   "metadata": {},
   "outputs": [],
   "source": [
    "def minimax(state, is_maximizing):\n",
    "    # your code\n",
    "    pass"
   ]
  },
  {
   "cell_type": "markdown",
   "id": "548b9731",
   "metadata": {},
   "source": [
    "Remarque dans la première ligne, on utilise `:=` [Assignment Expressions](https://peps.python.org/pep-0572/)\n",
    "\n",
    "Ensuite, observez que les blocs de l'instruction `if … else` sont assez similaires. Les seules différences entre les blocs sont la fonction, `max()` ou `min()`, utilisée pour trouver le meilleur score et la valeur pour `is_maximizing` dans les appels récursifs à `minimax()`. Ces deux éléments peuvent être directement calculés à partir de la valeur actuelle de `is_maximizing`."
   ]
  },
  {
   "cell_type": "code",
   "execution_count": null,
   "id": "0c130071",
   "metadata": {},
   "outputs": [],
   "source": [
    "def minimax(state, is_maximizing):\n",
    "    if (score := evaluate(state, is_maximizing)) is not None:\n",
    "        return score\n",
    "\n",
    "    return (max if is_maximizing else min)(\n",
    "        minimax(new_state, is_maximizing=not is_maximizing)\n",
    "        for new_state in possible_new_states(state)\n",
    "    )"
   ]
  },
  {
   "cell_type": "markdown",
   "id": "63a07873",
   "metadata": {},
   "source": [
    "les règles de Simple-Nim ne sont pas explicitement encodées dans l'algorithme `minimax`. Au lieu de cela, ils sont encapsulés dans `possible_new_states()` et `evaluate()`."
   ]
  },
  {
   "cell_type": "code",
   "execution_count": null,
   "id": "59a6600d",
   "metadata": {},
   "outputs": [],
   "source": [
    "minimax(6, is_maximizing=True)"
   ]
  },
  {
   "cell_type": "code",
   "execution_count": null,
   "id": "cad6ba8c",
   "metadata": {},
   "outputs": [],
   "source": [
    "minimax(5, is_maximizing=False)"
   ]
  },
  {
   "cell_type": "code",
   "execution_count": null,
   "id": "ae760b95",
   "metadata": {},
   "outputs": [],
   "source": [
    "minimax(4, is_maximizing=False)"
   ]
  },
  {
   "cell_type": "markdown",
   "id": "d9f97bbd",
   "metadata": {},
   "source": [
    "On peut maintenant modifier `best_move`:"
   ]
  },
  {
   "cell_type": "code",
   "execution_count": null,
   "id": "3229a1a0",
   "metadata": {},
   "outputs": [],
   "source": [
    "def best_move(state):\n",
    "    return max(\n",
    "        (minimax(new_state, is_maximizing=False), new_state)\n",
    "        for new_state in possible_new_states(state)\n",
    "    )"
   ]
  },
  {
   "cell_type": "markdown",
   "id": "737d3456",
   "metadata": {},
   "source": [
    "Comme précédemment, vous considérez (et renvoyez) un tuple contenant le score et le meilleur nouvel état. Étant donné que les comparaisons, y compris `max()`, sont effectuées élément par élément dans les tuples, le score doit être le premier élément du tuple."
   ]
  },
  {
   "cell_type": "code",
   "execution_count": null,
   "id": "ae04babc",
   "metadata": {},
   "outputs": [],
   "source": [
    "best_move(6)"
   ]
  },
  {
   "cell_type": "markdown",
   "id": "b5b8b157",
   "metadata": {},
   "source": [
    "## Variantes du jeu de Nim\n",
    "\n",
    "Il est temps de regarder les règles habituelles de Nim. Vous pouvez toujours reconnaître le jeu, mais il laisse un peu plus de choix aux joueurs :\n",
    "\n",
    "- Il y a plusieurs piles, avec un certain nombre de jetons dans chacune.\n",
    "- Deux joueurs jouent à tour de rôle.\n",
    "- A son tour, un joueur retire autant de pions qu'il le souhaite, mais les pions doivent provenir de la même pile.\n",
    "- Le joueur qui prend le dernier compteur perd la partie.\n",
    "\n",
    "Notez qu'il n'y a plus de restriction sur le nombre de marqueurs à retirer par tour. Si une pile contient vingt marqueurs, alors le joueur actif peut tous les prendre.\n",
    "\n",
    "Adaptez le code!"
   ]
  },
  {
   "cell_type": "code",
   "execution_count": null,
   "id": "64eba044",
   "metadata": {},
   "outputs": [],
   "source": []
  },
  {
   "cell_type": "code",
   "execution_count": null,
   "id": "d4abae9f",
   "metadata": {},
   "outputs": [],
   "source": []
  },
  {
   "cell_type": "code",
   "execution_count": null,
   "id": "440b9841",
   "metadata": {},
   "outputs": [],
   "source": []
  },
  {
   "cell_type": "code",
   "execution_count": null,
   "id": "d910c611",
   "metadata": {},
   "outputs": [],
   "source": []
  },
  {
   "cell_type": "markdown",
   "id": "57dfb0d2",
   "metadata": {},
   "source": [
    "Nim est parfois qualifié de jeu [misère](https://en.wikipedia.org/wiki/Mis%C3%A8re) car le but est d'éviter de prendre le dernier contre. Une variante populaire de Nim modifie la condition de victoire. Dans cette variante, le joueur qui prend le dernier marqueur remporte la partie. Comment changeriez-vous votre code pour jouer à cette version du jeu ?"
   ]
  },
  {
   "cell_type": "code",
   "execution_count": null,
   "id": "5ccb4dc5",
   "metadata": {},
   "outputs": [],
   "source": []
  },
  {
   "cell_type": "markdown",
   "id": "fda16936",
   "metadata": {},
   "source": [
    "Une autre variante de Nim commence avec tous les pions en une seule pile :\n",
    "\n",
    "- Il y a plusieurs pions, tous commençant par une seule pile.\n",
    "- Deux joueurs jouent à tour de rôle.\n",
    "- À son tour, un joueur divise une pile en deux, de sorte que les deux nouvelles piles aient des nombres de jetons différents.\n",
    "- Le premier joueur qui ne peut diviser aucune pile perd la partie.\n",
    "\n",
    "Dans cette variante, chaque mouvement crée une nouvelle pile. Le jeu dure jusqu'à ce que toutes les piles contiennent un ou deux jetons, car ces piles ne peuvent pas être divisées."
   ]
  },
  {
   "cell_type": "code",
   "execution_count": null,
   "id": "49622fea",
   "metadata": {},
   "outputs": [],
   "source": []
  },
  {
   "cell_type": "markdown",
   "id": "803f6aaf",
   "metadata": {},
   "source": [
    "## Élagage alpha-bêta"
   ]
  },
  {
   "cell_type": "markdown",
   "id": "59b9cd1e",
   "metadata": {},
   "source": [
    "Un défi avec l'algorithme minimax est que les arbres de jeu peuvent être énormes.\n",
    "\n",
    "Dans Simple-Nim, l'arbre de jeu se compose de nombreux états de jeu répétés. Par exemple, vous pouvez passer de six à trois compteurs de quatre manières différentes : 6-3, 6-4-3, 6-5-3 et 6-5-4-3. Par conséquent, les mêmes états de jeu sont calculés à plusieurs reprises par `minimax()`. Vous pouvez contrer cela en utilisant un `cache`:"
   ]
  },
  {
   "cell_type": "code",
   "execution_count": null,
   "id": "ff8080d4",
   "metadata": {},
   "outputs": [],
   "source": []
  },
  {
   "cell_type": "code",
   "execution_count": null,
   "id": "d9e4013a",
   "metadata": {},
   "outputs": [],
   "source": []
  },
  {
   "cell_type": "code",
   "execution_count": null,
   "id": "aa0d51ef",
   "metadata": {},
   "outputs": [],
   "source": []
  },
  {
   "cell_type": "markdown",
   "id": "23bf1966",
   "metadata": {},
   "source": [
    "Revenons maintenant à l'exemple où c'est au tour de Maximilien avec six jetons sur la table. Si vous considérez les branches de gauche à droite et arrêtez d'explorer les sous-arbres une fois que le score minimax d'un nœud est décidé, vous vous retrouverez avec l'arbre suivant :\n",
    "![](./images/minmax_nim_tree_alphabeta.png)\n",
    "\n",
    "Vous avez besoin d'un critère pour savoir quand vous pouvez arrêter d'explorer. Pour ce faire, vous allez ajouter deux paramètres, alpha et beta :\n",
    "\n",
    "- alpha représentera le score minimum que le joueur maximisant est assuré.\n",
    "- beta représentera le score maximum que le joueur minimisant est assuré.\n",
    "\n",
    "Si la beta est inférieure ou égale à alpha, le joueur peut arrêter d'explorer cet arbre de jeu. La maximisation aura déjà trouvé une meilleure option que celle que le joueur pourrait trouver en explorant plus avant.\n",
    "\n",
    "Pour implémenter cette idée, vous commencerez par remplacer votre compréhension par une boucle for explicite. Vous avez besoin de la boucle explicite pour pouvoir en sortir et élaguer efficacement l'arbre..."
   ]
  },
  {
   "cell_type": "code",
   "execution_count": null,
   "id": "b471b98c",
   "metadata": {},
   "outputs": [],
   "source": []
  },
  {
   "cell_type": "code",
   "execution_count": null,
   "id": "d78f0aa0",
   "metadata": {},
   "outputs": [],
   "source": []
  }
 ],
 "metadata": {
  "kernelspec": {
   "display_name": "agreg",
   "language": "python",
   "name": "agreg"
  },
  "language_info": {
   "codemirror_mode": {
    "name": "ipython",
    "version": 3
   },
   "file_extension": ".py",
   "mimetype": "text/x-python",
   "name": "python",
   "nbconvert_exporter": "python",
   "pygments_lexer": "ipython3",
   "version": "3.10.9"
  }
 },
 "nbformat": 4,
 "nbformat_minor": 5
}
